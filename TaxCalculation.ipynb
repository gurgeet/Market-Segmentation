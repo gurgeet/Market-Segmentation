{
  "nbformat": 4,
  "nbformat_minor": 0,
  "metadata": {
    "colab": {
      "name": "TaxCalculation.ipynb",
      "provenance": []
    },
    "kernelspec": {
      "name": "python3",
      "display_name": "Python 3"
    },
    "language_info": {
      "name": "python"
    }
  },
  "cells": [
    {
      "cell_type": "code",
      "metadata": {
        "colab": {
          "base_uri": "https://localhost:8080/"
        },
        "id": "TIqvIMcWzGjh",
        "outputId": "9e4b8819-5e1d-4710-cda3-9e2b818cb110"
      },
      "source": [
        "# Tax Calculation based on Revenue/ Salary\n",
        "while True:\n",
        "    try:\n",
        "        income = int(input(\"Please enter your taxable income in india: \"))\n",
        "    except ValueError:\n",
        "        print(\"Sorry, We didn't understand that please enter taxable income as a number\")\n",
        "        continue\n",
        "    else:\n",
        "        break\n",
        "if income <= 250000:  #2 Lakh 50 thousand\n",
        "    tax = 0\n",
        "\n",
        "elif income <= 500000: #5 Lakh\n",
        "    tax = (income - 250000) * 0.05\n",
        "\n",
        "elif income <= 750000: #7 lakh 50 thousand\n",
        "    tax = (income - 500000) * 0.10 + 12500 \n",
        "\n",
        "elif income <= 1000000: #10 Lakh\n",
        "    tax = (income - 750000) * 0.15 + 37500 \n",
        "\n",
        "elif income <= 1250000: #12 lakh 50 thousand\n",
        "    tax = (income - 1000000) * 0.20 + 75000 \n",
        "\n",
        "elif income <= 1500000: #15 lakh\n",
        "    tax = (income - 1250000) * 0.25 + 125000 \n",
        "\n",
        "else:\n",
        "    tax = (income - 1500000) * 0.30 + 187500\n",
        "\n",
        "print(\"you owe\", tax, \"Rupees in tax!\")        "
      ],
      "execution_count": 1,
      "outputs": [
        {
          "output_type": "stream",
          "name": "stdout",
          "text": [
            "Please enter your taxable income in india: 500000\n",
            "you owe 12500.0 Rupees in tax!\n"
          ]
        }
      ]
    },
    {
      "cell_type": "code",
      "metadata": {
        "id": "eRc85FlfzsLj"
      },
      "source": [
        ""
      ],
      "execution_count": null,
      "outputs": []
    }
  ]
}